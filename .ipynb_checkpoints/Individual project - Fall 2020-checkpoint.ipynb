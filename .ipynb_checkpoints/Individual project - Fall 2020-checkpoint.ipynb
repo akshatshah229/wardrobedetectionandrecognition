{
 "cells": [
  {
   "cell_type": "markdown",
   "metadata": {},
   "source": [
    "        Data Science: A Programming Approach\n",
    "        Mahyar S Vaghefi\n",
    "        University of Texas Arlington\n",
    "        \n",
    "        This document can only be used for class studies. \n",
    "        You are not allowed to share it in any public platform."
   ]
  },
  {
   "cell_type": "markdown",
   "metadata": {},
   "source": [
    "<h1 align='center' style=\"color: blue;\">Individual Project - Fall 2020</h1>"
   ]
  },
  {
   "cell_type": "markdown",
   "metadata": {},
   "source": [
    "You need to work on a popular Fashion MNIST dataset for this project. The dataset includes tiny images of fashion pieces. The objective is to create a set of supervised learning models that can predict the type of item based on its image. You can use all different models that you learned about them in this course for yourr work. Keep in mind that this is a project, not a class assignmnet. So, not all steps are predetermined and you have more flexibility, and the final outcome is likely to be more detailed."
   ]
  },
  {
   "cell_type": "markdown",
   "metadata": {},
   "source": [
    "In order to load the dataset you need to have `tensorflow V2` on your computer. Use the following code to install the package"
   ]
  },
  {
   "cell_type": "code",
   "execution_count": 17,
   "metadata": {},
   "outputs": [
    {
     "name": "stdout",
     "output_type": "stream",
     "text": [
      "Requirement already up-to-date: tensorflow in c:\\users\\aksha\\anaconda3\\lib\\site-packages (2.3.1)\n",
      "Requirement already satisfied, skipping upgrade: six>=1.12.0 in c:\\users\\aksha\\anaconda3\\lib\\site-packages (from tensorflow) (1.15.0)\n",
      "Requirement already satisfied, skipping upgrade: tensorflow-estimator<2.4.0,>=2.3.0 in c:\\users\\aksha\\anaconda3\\lib\\site-packages (from tensorflow) (2.3.0)\n",
      "Requirement already satisfied, skipping upgrade: wrapt>=1.11.1 in c:\\users\\aksha\\anaconda3\\lib\\site-packages (from tensorflow) (1.11.2)\n",
      "Requirement already satisfied, skipping upgrade: gast==0.3.3 in c:\\users\\aksha\\anaconda3\\lib\\site-packages (from tensorflow) (0.3.3)\n",
      "Requirement already satisfied, skipping upgrade: grpcio>=1.8.6 in c:\\users\\aksha\\anaconda3\\lib\\site-packages (from tensorflow) (1.33.1)\n",
      "Requirement already satisfied, skipping upgrade: protobuf>=3.9.2 in c:\\users\\aksha\\anaconda3\\lib\\site-packages (from tensorflow) (3.13.0)\n",
      "Requirement already satisfied, skipping upgrade: tensorboard<3,>=2.3.0 in c:\\users\\aksha\\anaconda3\\lib\\site-packages (from tensorflow) (2.3.0)\n",
      "Requirement already satisfied, skipping upgrade: termcolor>=1.1.0 in c:\\users\\aksha\\anaconda3\\lib\\site-packages (from tensorflow) (1.1.0)\n",
      "Requirement already satisfied, skipping upgrade: absl-py>=0.7.0 in c:\\users\\aksha\\anaconda3\\lib\\site-packages (from tensorflow) (0.10.0)\n",
      "Requirement already satisfied, skipping upgrade: wheel>=0.26 in c:\\users\\aksha\\anaconda3\\lib\\site-packages (from tensorflow) (0.34.2)\n",
      "Requirement already satisfied, skipping upgrade: keras-preprocessing<1.2,>=1.1.1 in c:\\users\\aksha\\anaconda3\\lib\\site-packages (from tensorflow) (1.1.2)\n",
      "Requirement already satisfied, skipping upgrade: numpy<1.19.0,>=1.16.0 in c:\\users\\aksha\\anaconda3\\lib\\site-packages (from tensorflow) (1.18.5)\n",
      "Requirement already satisfied, skipping upgrade: opt-einsum>=2.3.2 in c:\\users\\aksha\\anaconda3\\lib\\site-packages (from tensorflow) (3.3.0)\n",
      "Requirement already satisfied, skipping upgrade: astunparse==1.6.3 in c:\\users\\aksha\\anaconda3\\lib\\site-packages (from tensorflow) (1.6.3)\n",
      "Requirement already satisfied, skipping upgrade: h5py<2.11.0,>=2.10.0 in c:\\users\\aksha\\anaconda3\\lib\\site-packages (from tensorflow) (2.10.0)\n",
      "Requirement already satisfied, skipping upgrade: google-pasta>=0.1.8 in c:\\users\\aksha\\anaconda3\\lib\\site-packages (from tensorflow) (0.2.0)\n",
      "Requirement already satisfied, skipping upgrade: setuptools in c:\\users\\aksha\\anaconda3\\lib\\site-packages (from protobuf>=3.9.2->tensorflow) (49.2.0.post20200714)\n",
      "Requirement already satisfied, skipping upgrade: google-auth-oauthlib<0.5,>=0.4.1 in c:\\users\\aksha\\anaconda3\\lib\\site-packages (from tensorboard<3,>=2.3.0->tensorflow) (0.4.1)\n",
      "Requirement already satisfied, skipping upgrade: google-auth<2,>=1.6.3 in c:\\users\\aksha\\anaconda3\\lib\\site-packages (from tensorboard<3,>=2.3.0->tensorflow) (1.22.1)\n",
      "Requirement already satisfied, skipping upgrade: requests<3,>=2.21.0 in c:\\users\\aksha\\anaconda3\\lib\\site-packages (from tensorboard<3,>=2.3.0->tensorflow) (2.24.0)\n",
      "Requirement already satisfied, skipping upgrade: tensorboard-plugin-wit>=1.6.0 in c:\\users\\aksha\\anaconda3\\lib\\site-packages (from tensorboard<3,>=2.3.0->tensorflow) (1.7.0)\n",
      "Requirement already satisfied, skipping upgrade: werkzeug>=0.11.15 in c:\\users\\aksha\\anaconda3\\lib\\site-packages (from tensorboard<3,>=2.3.0->tensorflow) (1.0.1)\n",
      "Requirement already satisfied, skipping upgrade: markdown>=2.6.8 in c:\\users\\aksha\\anaconda3\\lib\\site-packages (from tensorboard<3,>=2.3.0->tensorflow) (3.3.3)\n",
      "Requirement already satisfied, skipping upgrade: requests-oauthlib>=0.7.0 in c:\\users\\aksha\\anaconda3\\lib\\site-packages (from google-auth-oauthlib<0.5,>=0.4.1->tensorboard<3,>=2.3.0->tensorflow) (1.3.0)\n",
      "Requirement already satisfied, skipping upgrade: pyasn1-modules>=0.2.1 in c:\\users\\aksha\\anaconda3\\lib\\site-packages (from google-auth<2,>=1.6.3->tensorboard<3,>=2.3.0->tensorflow) (0.2.8)\n",
      "Requirement already satisfied, skipping upgrade: cachetools<5.0,>=2.0.0 in c:\\users\\aksha\\anaconda3\\lib\\site-packages (from google-auth<2,>=1.6.3->tensorboard<3,>=2.3.0->tensorflow) (4.1.1)\n",
      "Requirement already satisfied, skipping upgrade: rsa<5,>=3.1.4; python_version >= \"3.5\" in c:\\users\\aksha\\anaconda3\\lib\\site-packages (from google-auth<2,>=1.6.3->tensorboard<3,>=2.3.0->tensorflow) (4.6)\n",
      "Requirement already satisfied, skipping upgrade: certifi>=2017.4.17 in c:\\users\\aksha\\anaconda3\\lib\\site-packages (from requests<3,>=2.21.0->tensorboard<3,>=2.3.0->tensorflow) (2020.6.20)\n",
      "Requirement already satisfied, skipping upgrade: chardet<4,>=3.0.2 in c:\\users\\aksha\\anaconda3\\lib\\site-packages (from requests<3,>=2.21.0->tensorboard<3,>=2.3.0->tensorflow) (3.0.4)\n",
      "Requirement already satisfied, skipping upgrade: urllib3!=1.25.0,!=1.25.1,<1.26,>=1.21.1 in c:\\users\\aksha\\anaconda3\\lib\\site-packages (from requests<3,>=2.21.0->tensorboard<3,>=2.3.0->tensorflow) (1.25.9)\n",
      "Requirement already satisfied, skipping upgrade: idna<3,>=2.5 in c:\\users\\aksha\\anaconda3\\lib\\site-packages (from requests<3,>=2.21.0->tensorboard<3,>=2.3.0->tensorflow) (2.10)\n",
      "Requirement already satisfied, skipping upgrade: oauthlib>=3.0.0 in c:\\users\\aksha\\anaconda3\\lib\\site-packages (from requests-oauthlib>=0.7.0->google-auth-oauthlib<0.5,>=0.4.1->tensorboard<3,>=2.3.0->tensorflow) (3.1.0)\n",
      "Requirement already satisfied, skipping upgrade: pyasn1<0.5.0,>=0.4.6 in c:\\users\\aksha\\anaconda3\\lib\\site-packages (from pyasn1-modules>=0.2.1->google-auth<2,>=1.6.3->tensorboard<3,>=2.3.0->tensorflow) (0.4.8)\n"
     ]
    }
   ],
   "source": [
    "!pip install --upgrade tensorflow"
   ]
  },
  {
   "cell_type": "markdown",
   "metadata": {},
   "source": [
    "You can also check the version of it using the following code."
   ]
  },
  {
   "cell_type": "code",
   "execution_count": 43,
   "metadata": {},
   "outputs": [
    {
     "data": {
      "text/plain": [
       "'2.3.1'"
      ]
     },
     "execution_count": 43,
     "metadata": {},
     "output_type": "execute_result"
    }
   ],
   "source": [
    "import tensorflow as tf\n",
    "tf.__version__"
   ]
  },
  {
   "cell_type": "markdown",
   "metadata": {},
   "source": [
    "Now, it's time to load the dataset"
   ]
  },
  {
   "cell_type": "code",
   "execution_count": 44,
   "metadata": {},
   "outputs": [],
   "source": [
    "from tensorflow import keras\n",
    "fashion_mnist = keras.datasets.fashion_mnist\n",
    "(X_train, y_train), (X_test, y_test) = fashion_mnist.load_data()"
   ]
  },
  {
   "cell_type": "markdown",
   "metadata": {},
   "source": [
    "As can be seen from the above code, the dataset was divided into train and test sets. Let's take a look at the X_train"
   ]
  },
  {
   "cell_type": "code",
   "execution_count": 45,
   "metadata": {},
   "outputs": [
    {
     "data": {
      "text/plain": [
       "(60000, 28, 28)"
      ]
     },
     "execution_count": 45,
     "metadata": {},
     "output_type": "execute_result"
    }
   ],
   "source": [
    "X_train.shape"
   ]
  },
  {
   "cell_type": "markdown",
   "metadata": {},
   "source": [
    "As it is clear, the train dataset (`X_train`) contains 60,000 images of size 28 x 28. We can visualize one of the images using the following code:"
   ]
  },
  {
   "cell_type": "code",
   "execution_count": 46,
   "metadata": {},
   "outputs": [
    {
     "data": {
      "image/png": "[encoded data removed]",
      "text/plain": [
       "<Figure size 432x288 with 1 Axes>"
      ]
     },
     "metadata": {
      "needs_background": "light"
     },
     "output_type": "display_data"
    }
   ],
   "source": [
    "import matplotlib as mpl\n",
    "import matplotlib.pyplot as plt\n",
    "%matplotlib inline\n",
    "\n",
    "sample_image = X_train[1]\n",
    "plt.imshow(sample_image, cmap='binary')\n",
    "plt.axis('off')\n",
    "plt.show()"
   ]
  },
  {
   "cell_type": "markdown",
   "metadata": {},
   "source": [
    "The `y_train` also includes values between 0 and 9. Each represents a particular category. For example, we can check the value of `y_train` for the above image."
   ]
  },
  {
   "cell_type": "code",
   "execution_count": 47,
   "metadata": {},
   "outputs": [
    {
     "data": {
      "text/plain": [
       "0"
      ]
     },
     "execution_count": 47,
     "metadata": {},
     "output_type": "execute_result"
    }
   ],
   "source": [
    "y_train[1]"
   ]
  },
  {
   "cell_type": "markdown",
   "metadata": {},
   "source": [
    "The above code shows that the image belongs to category 0. To get the associated label with each category, you can use the following code:"
   ]
  },
  {
   "cell_type": "code",
   "execution_count": 48,
   "metadata": {},
   "outputs": [
    {
     "name": "stdout",
     "output_type": "stream",
     "text": [
      "T-shirt/top\n"
     ]
    }
   ],
   "source": [
    "class_names = ['T-shirt/top','Trouser','Pullover','Dress','Coat','Sandal','Shirt','Sneaker','Bag','Ankle boot']\n",
    "print(class_names[y_train[1]])"
   ]
  },
  {
   "cell_type": "markdown",
   "metadata": {},
   "source": [
    "Now, it's your turn,"
   ]
  },
  {
   "cell_type": "markdown",
   "metadata": {},
   "source": [
    "<ul>\n",
    "    <li><b>Task1:</b> Use the train set to train various supervised models and evaluate their performance using the test set.</li>\n",
    "    <ul>\n",
    "        <li>Use different supervised learning models.</li>\n",
    "        <li>Use different metrics such as <b>accutacy</b>, <b>precision</b>, <b>AUC</b>, and ... in your model evaluation. </li>\n",
    "        <li>It is not enough to report the metrics. It is crucial that you interpret the metrics for each model and compare them across different models.</li>\n",
    "        <li> You may need to use the cross validation methods for hyperparameter selection.</li>\n",
    "        <li> Specify the model that outperforms the other models.</b>\n",
    "    </ul>\n",
    "    <li><b>Task2:</b> Use the best model to predict your own fashion pieces.</li>\n",
    "    <ul>\n",
    "        <li>Take a picture of five fashion pieces of your own (take pictures in square format).</li>\n",
    "        <li>Resize images to the correct size (28,28).</li>\n",
    "        <li>Grayscale your images.</li>\n",
    "        <li>Visualize all the images side by side</li>\n",
    "        <li>Use the best model in Task 1 to predict the label of each of your own images.</li>\n",
    "        <li>How accurate is the final result?</li>\n",
    "    </ul>\n",
    "</ul>"
   ]
  },
  {
   "cell_type": "markdown",
   "metadata": {},
   "source": [
    "<b>Initalizing All the libraries used for Project</b>"
   ]
  },
  {
   "cell_type": "code",
   "execution_count": 117,
   "metadata": {},
   "outputs": [],
   "source": [
    "# Initailizing all the libraries\n",
    "from sklearn.metrics import accuracy_score\n",
    "from sklearn.model_selection import GridSearchCV\n",
    "from sklearn.model_selection import StratifiedKFold\n",
    "from sklearn.linear_model import LogisticRegression\n",
    "from sklearn.naive_bayes import GaussianNB\n",
    "from sklearn.neighbors import KNeighborsClassifier\n",
    "from sklearn.decomposition import PCA\n",
    "from sklearn.model_selection import train_test_split\n",
    "from sklearn.svm import SVC\n",
    "from sklearn.pipeline import make_pipeline\n",
    "from sklearn.ensemble import RandomForestRegressor\n",
    "from sklearn.tree import DecisionTreeClassifier\n",
    "from sklearn.neural_network import MLPClassifier\n",
    "from sklearn.metrics import roc_curve\n",
    "from sklearn.metrics import classification_report, confusion_matrix\n",
    "import numpy as np\n",
    "import cv2\n",
    "import matplotlib.image as mpimg\n",
    "from sklearn.manifold import TSNE"
   ]
  },
  {
   "cell_type": "markdown",
   "metadata": {},
   "source": [
    "<h3><b> Flattening the Image from 28*28 to 784 </b></h3>\n",
    "\n",
    "<h3><b>Initializing the PCA Component to reduced dimension to 150 columns</b></h3>"
   ]
  },
  {
   "cell_type": "code",
   "execution_count": 122,
   "metadata": {},
   "outputs": [
    {
     "name": "stdout",
     "output_type": "stream",
     "text": [
      "X_train Shape (60000, 784)\n",
      "X_test Shape (10000, 784)\n"
     ]
    }
   ],
   "source": [
    "# preprocessing the dataset\n",
    "X_train = X_train.reshape(60000, 28*28)\n",
    "X_test = X_test.reshape(10000, 28*28)\n",
    "print(\"X_train Shape\", X_train.shape)\n",
    "print(\"X_test Shape\", X_test.shape)\n",
    "\n",
    "# Dimensions Reduction\n",
    "pca = PCA(svd_solver='randomized', n_components=150, whiten=True, random_state=0) \n",
    "tsne = TSNE(n_components=150, random_state=0)"
   ]
  },
  {
   "cell_type": "markdown",
   "metadata": {},
   "source": [
    "<h1>Initializing Model Logistic Regression</h1>"
   ]
  },
  {
   "cell_type": "code",
   "execution_count": 33,
   "metadata": {},
   "outputs": [
    {
     "name": "stdout",
     "output_type": "stream",
     "text": [
      "Wall time: 7.46 s\n",
      "84.21\n"
     ]
    },
    {
     "name": "stderr",
     "output_type": "stream",
     "text": [
      "C:\\Users\\aksha\\anaconda3\\lib\\site-packages\\sklearn\\linear_model\\_logistic.py:762: ConvergenceWarning: lbfgs failed to converge (status=1):\n",
      "STOP: TOTAL NO. of ITERATIONS REACHED LIMIT.\n",
      "\n",
      "Increase the number of iterations (max_iter) or scale the data as shown in:\n",
      "    https://scikit-learn.org/stable/modules/preprocessing.html\n",
      "Please also refer to the documentation for alternative solver options:\n",
      "    https://scikit-learn.org/stable/modules/linear_model.html#logistic-regression\n",
      "  n_iter_i = _check_optimize_result(\n"
     ]
    }
   ],
   "source": [
    "# Task 1\n",
    "\n",
    "# Model Logistic Regression\n",
    "lr = LogisticRegression(random_state = 0)\n",
    "model_lr = make_pipeline(pca, lr)\n",
    "%time model_lr.fit(X_train, y_train)\n",
    "y_test_hat_lr = model_lr.predict(X_test)\n",
    "acc_lr = accuracy_score(y_test,y_test_hat_lr, normalize = True) * 100\n",
    "print(acc_lr)"
   ]
  },
  {
   "cell_type": "markdown",
   "metadata": {},
   "source": [
    "<h1>Initializing Model Naive Bayes</h1>"
   ]
  },
  {
   "cell_type": "code",
   "execution_count": 35,
   "metadata": {},
   "outputs": [
    {
     "name": "stdout",
     "output_type": "stream",
     "text": [
      "Wall time: 3.52 s\n",
      "74.86\n"
     ]
    }
   ],
   "source": [
    "# Model Naive Bayes\n",
    "gnb = GaussianNB()\n",
    "model_nb = make_pipeline(pca, gnb)\n",
    "%time model_nb.fit(X_train, y_train)\n",
    "y_test_hat_nb = model_nb.predict(X_test)\n",
    "acc_nb = accuracy_score(y_test,y_test_hat_nb, normalize = True) * 100\n",
    "print(acc_nb)"
   ]
  },
  {
   "cell_type": "markdown",
   "metadata": {},
   "source": [
    "<h1>Initializing Model K - Nearest Neighbour Classifier</h1>"
   ]
  },
  {
   "cell_type": "code",
   "execution_count": 22,
   "metadata": {},
   "outputs": [
    {
     "name": "stdout",
     "output_type": "stream",
     "text": [
      "Wall time: 2d 15h 20min 40s\n",
      "9.75\n"
     ]
    }
   ],
   "source": [
    "# Model K-Nearest Neighbour Classifier\n",
    "knn = KNeighborsClassifier()\n",
    "pca = PCA(svd_solver='randomized', n_components=150, whiten=True, random_state=0) \n",
    "X_train = pca.fit_transform(X_train)\n",
    "X_test = pca.fit_transform(X_test)\n",
    "# model = make_pipeline(pca, knn)\n",
    "param_grid = {'n_neighbors': [2,3,4]}\n",
    "cv = StratifiedKFold(n_splits=5, random_state=0, shuffle=True)\n",
    "grid = GridSearchCV(knn, param_grid, cv = cv, scoring='accuracy',\n",
    "                    return_train_score=True)\n",
    "%time grid.fit(X_train, y_train)\n",
    "bestModel = grid.best_estimator_\n",
    "y_test_hat = bestModel.predict(X_test)\n",
    "print(accuracy_score(y_test,y_test_hat, normalize = True) * 100 )"
   ]
  },
  {
   "cell_type": "markdown",
   "metadata": {},
   "source": [
    "<h1>Initializing Model SVM</h1>"
   ]
  },
  {
   "cell_type": "code",
   "execution_count": 36,
   "metadata": {},
   "outputs": [
    {
     "name": "stdout",
     "output_type": "stream",
     "text": [
      "Wall time: 1h 47min 53s\n",
      "90.07\n"
     ]
    }
   ],
   "source": [
    "# Model SVM\n",
    "svc = SVC(kernel='rbf',  class_weight='balanced')\n",
    "model_svc = make_pipeline(pca, svc)\n",
    "param_grid = {'svc__C': [1, 5, 10],\n",
    "              'svc__gamma': [0.001, 0.005]}\n",
    "cv = StratifiedKFold(n_splits=5, random_state=0, shuffle=True)\n",
    "grid = GridSearchCV(model_svc, param_grid, cv = cv, scoring='accuracy')\n",
    "%time grid.fit(X_train, y_train)\n",
    "bestModel_svc = grid.best_estimator_\n",
    "y_test_hat_svm = bestModel_svc.predict(X_test)\n",
    "acc_svm = accuracy_score(y_test,y_test_hat_svm, normalize = True) * 100 \n",
    "print(acc_svm)"
   ]
  },
  {
   "cell_type": "markdown",
   "metadata": {},
   "source": [
    "<h1>Initializing Model Decision Tree</h1>"
   ]
  },
  {
   "cell_type": "code",
   "execution_count": 37,
   "metadata": {},
   "outputs": [
    {
     "name": "stdout",
     "output_type": "stream",
     "text": [
      "46.48\n"
     ]
    }
   ],
   "source": [
    "# Model Decision Tree\n",
    "\n",
    "dt = DecisionTreeClassifier()\n",
    "pca = PCA(svd_solver='randomized', n_components=150, whiten=True, random_state=0) \n",
    "X_train_pca_dt = pca.fit_transform(X_train)\n",
    "X_test_pca_dt = pca.fit_transform(X_test)\n",
    "param_grid = {'max_depth': [10,11,12]}\n",
    "cv = StratifiedKFold(n_splits=5, random_state=0, shuffle=True)\n",
    "grid = GridSearchCV(dt, param_grid, cv = cv, scoring='accuracy',return_train_score=True)\n",
    "%time grid.fit(X_train_pca_dt, y_train)\n",
    "bestModel_dt = grid.best_estimator_\n",
    "y_test_hat_dt = bestModel_dt.predict(X_test_pca_dt)\n",
    "acc_dt = accuracy_score(y_test,y_test_hat_dt, normalize = True) * 100 \n",
    "print(acc_dt)"
   ]
  },
  {
   "cell_type": "markdown",
   "metadata": {},
   "source": [
    "<h1>Initializing Model Neural Network</h1>"
   ]
  },
  {
   "cell_type": "code",
   "execution_count": 123,
   "metadata": {},
   "outputs": [
    {
     "ename": "ValueError",
     "evalue": "'n_components' should be inferior to 4 for the barnes_hut algorithm as it relies on quad-tree or oct-tree.",
     "output_type": "error",
     "traceback": [
      "\u001b[1;31m---------------------------------------------------------------------------\u001b[0m",
      "\u001b[1;31mValueError\u001b[0m                                Traceback (most recent call last)",
      "\u001b[1;32m<ipython-input-123-91dcda1f0282>\u001b[0m in \u001b[0;36m<module>\u001b[1;34m\u001b[0m\n\u001b[0;32m      4\u001b[0m                       hidden_layer_sizes=[50,50])\n\u001b[0;32m      5\u001b[0m \u001b[0mpca\u001b[0m \u001b[1;33m=\u001b[0m \u001b[0mPCA\u001b[0m\u001b[1;33m(\u001b[0m\u001b[0msvd_solver\u001b[0m\u001b[1;33m=\u001b[0m\u001b[1;34m'randomized'\u001b[0m\u001b[1;33m,\u001b[0m \u001b[0mn_components\u001b[0m\u001b[1;33m=\u001b[0m\u001b[1;36m150\u001b[0m\u001b[1;33m,\u001b[0m \u001b[0mwhiten\u001b[0m\u001b[1;33m=\u001b[0m\u001b[1;32mTrue\u001b[0m\u001b[1;33m,\u001b[0m \u001b[0mrandom_state\u001b[0m\u001b[1;33m=\u001b[0m\u001b[1;36m0\u001b[0m\u001b[1;33m)\u001b[0m\u001b[1;33m\u001b[0m\u001b[1;33m\u001b[0m\u001b[0m\n\u001b[1;32m----> 6\u001b[1;33m \u001b[0mX_train_pca\u001b[0m \u001b[1;33m=\u001b[0m \u001b[0mtsne\u001b[0m\u001b[1;33m.\u001b[0m\u001b[0mfit_transform\u001b[0m\u001b[1;33m(\u001b[0m\u001b[0mX_train\u001b[0m\u001b[1;33m)\u001b[0m\u001b[1;33m\u001b[0m\u001b[1;33m\u001b[0m\u001b[0m\n\u001b[0m\u001b[0;32m      7\u001b[0m \u001b[0mX_test_pca\u001b[0m \u001b[1;33m=\u001b[0m \u001b[0mtsne\u001b[0m\u001b[1;33m.\u001b[0m\u001b[0mfit_transform\u001b[0m\u001b[1;33m(\u001b[0m\u001b[0mX_test\u001b[0m\u001b[1;33m)\u001b[0m\u001b[1;33m\u001b[0m\u001b[1;33m\u001b[0m\u001b[0m\n\u001b[0;32m      8\u001b[0m \u001b[0mmodel_nn\u001b[0m\u001b[1;33m.\u001b[0m\u001b[0mfit\u001b[0m\u001b[1;33m(\u001b[0m\u001b[0mX_train_pca\u001b[0m\u001b[1;33m,\u001b[0m \u001b[0my_train\u001b[0m\u001b[1;33m)\u001b[0m\u001b[1;33m\u001b[0m\u001b[1;33m\u001b[0m\u001b[0m\n",
      "\u001b[1;32m~\\anaconda3\\lib\\site-packages\\sklearn\\manifold\\_t_sne.py\u001b[0m in \u001b[0;36mfit_transform\u001b[1;34m(self, X, y)\u001b[0m\n\u001b[0;32m    889\u001b[0m             \u001b[0mEmbedding\u001b[0m \u001b[0mof\u001b[0m \u001b[0mthe\u001b[0m \u001b[0mtraining\u001b[0m \u001b[0mdata\u001b[0m \u001b[1;32min\u001b[0m \u001b[0mlow\u001b[0m\u001b[1;33m-\u001b[0m\u001b[0mdimensional\u001b[0m \u001b[0mspace\u001b[0m\u001b[1;33m.\u001b[0m\u001b[1;33m\u001b[0m\u001b[1;33m\u001b[0m\u001b[0m\n\u001b[0;32m    890\u001b[0m         \"\"\"\n\u001b[1;32m--> 891\u001b[1;33m         \u001b[0membedding\u001b[0m \u001b[1;33m=\u001b[0m \u001b[0mself\u001b[0m\u001b[1;33m.\u001b[0m\u001b[0m_fit\u001b[0m\u001b[1;33m(\u001b[0m\u001b[0mX\u001b[0m\u001b[1;33m)\u001b[0m\u001b[1;33m\u001b[0m\u001b[1;33m\u001b[0m\u001b[0m\n\u001b[0m\u001b[0;32m    892\u001b[0m         \u001b[0mself\u001b[0m\u001b[1;33m.\u001b[0m\u001b[0membedding_\u001b[0m \u001b[1;33m=\u001b[0m \u001b[0membedding\u001b[0m\u001b[1;33m\u001b[0m\u001b[1;33m\u001b[0m\u001b[0m\n\u001b[0;32m    893\u001b[0m         \u001b[1;32mreturn\u001b[0m \u001b[0mself\u001b[0m\u001b[1;33m.\u001b[0m\u001b[0membedding_\u001b[0m\u001b[1;33m\u001b[0m\u001b[1;33m\u001b[0m\u001b[0m\n",
      "\u001b[1;32m~\\anaconda3\\lib\\site-packages\\sklearn\\manifold\\_t_sne.py\u001b[0m in \u001b[0;36m_fit\u001b[1;34m(self, X, skip_num_points)\u001b[0m\n\u001b[0;32m    690\u001b[0m \u001b[1;33m\u001b[0m\u001b[0m\n\u001b[0;32m    691\u001b[0m         \u001b[1;32mif\u001b[0m \u001b[0mself\u001b[0m\u001b[1;33m.\u001b[0m\u001b[0mmethod\u001b[0m \u001b[1;33m==\u001b[0m \u001b[1;34m'barnes_hut'\u001b[0m \u001b[1;32mand\u001b[0m \u001b[0mself\u001b[0m\u001b[1;33m.\u001b[0m\u001b[0mn_components\u001b[0m \u001b[1;33m>\u001b[0m \u001b[1;36m3\u001b[0m\u001b[1;33m:\u001b[0m\u001b[1;33m\u001b[0m\u001b[1;33m\u001b[0m\u001b[0m\n\u001b[1;32m--> 692\u001b[1;33m             raise ValueError(\"'n_components' should be inferior to 4 for the \"\n\u001b[0m\u001b[0;32m    693\u001b[0m                              \u001b[1;34m\"barnes_hut algorithm as it relies on \"\u001b[0m\u001b[1;33m\u001b[0m\u001b[1;33m\u001b[0m\u001b[0m\n\u001b[0;32m    694\u001b[0m                              \"quad-tree or oct-tree.\")\n",
      "\u001b[1;31mValueError\u001b[0m: 'n_components' should be inferior to 4 for the barnes_hut algorithm as it relies on quad-tree or oct-tree."
     ]
    }
   ],
   "source": [
    "# Model Neural Network\n",
    "\n",
    "model_nn = MLPClassifier(solver='lbfgs',random_state=0, \n",
    "                      hidden_layer_sizes=[50,50])\n",
    "pca = PCA(svd_solver='randomized', n_components=150, whiten=True, random_state=0) \n",
    "X_train_pca = pca.fit_transform(X_train)\n",
    "X_test_pca = pca.fit_transform(X_test)\n",
    "model_nn.fit(X_train_pca, y_train)\n",
    "y_test_hat_nn = model_nn.predict(X_test_pca)\n",
    "acc_nn = accuracy_score(y_test,y_test_hat_nn, normalize = True) * 100 \n",
    "print(acc_nn)"
   ]
  },
  {
   "cell_type": "markdown",
   "metadata": {},
   "source": [
    "<h3>Visualizing In Sample Accuracy for Linear Regression.</h3>"
   ]
  },
  {
   "cell_type": "code",
   "execution_count": 52,
   "metadata": {},
   "outputs": [
    {
     "name": "stdout",
     "output_type": "stream",
     "text": [
      "Logistic Regression:  86.24833333333333\n"
     ]
    }
   ],
   "source": [
    "# Model Logistic Regression\n",
    "y_test_hat_lr_out = model_lr.predict(X_train)\n",
    "acc_lr_out = accuracy_score(y_train,y_test_hat_lr_out, normalize = True) * 100\n",
    "print(\"Logistic Regression: \",acc_lr_out)"
   ]
  },
  {
   "cell_type": "markdown",
   "metadata": {},
   "source": [
    "<h3>Visualizing In Sample Accuracy for Naive Bayes.</h3>"
   ]
  },
  {
   "cell_type": "code",
   "execution_count": 57,
   "metadata": {},
   "outputs": [
    {
     "name": "stdout",
     "output_type": "stream",
     "text": [
      "Naive Bayes:  76.10666666666667\n"
     ]
    }
   ],
   "source": [
    "# Model Naive Bayes\n",
    "y_test_hat_nb_out = model_nb.predict(X_train)\n",
    "acc_nb_out = accuracy_score(y_train,y_test_hat_nb_out, normalize = True) * 100\n",
    "print(\"Naive Bayes: \",acc_nb_out)"
   ]
  },
  {
   "cell_type": "markdown",
   "metadata": {},
   "source": [
    "<h3>Visualizing In Sample Accuracy for K - Nearest Neighbour.</h3>"
   ]
  },
  {
   "cell_type": "code",
   "execution_count": 58,
   "metadata": {},
   "outputs": [],
   "source": [
    "# Model K - nearest Neighbour\n",
    "# Not find because takes to much time to fit the data. Ruled Out."
   ]
  },
  {
   "cell_type": "markdown",
   "metadata": {},
   "source": [
    "<h3>Visualizing In Sample Accuracy for SVM.</h3>"
   ]
  },
  {
   "cell_type": "code",
   "execution_count": 59,
   "metadata": {},
   "outputs": [
    {
     "name": "stdout",
     "output_type": "stream",
     "text": [
      "SVM:  98.53\n"
     ]
    }
   ],
   "source": [
    "# Model SVM\n",
    "y_test_hat_svm_out = bestModel_svc.predict(X_train)\n",
    "acc_svm_out = accuracy_score(y_train,y_test_hat_svm_out, normalize = True) * 100\n",
    "print(\"SVM: \",acc_svm_out)\n"
   ]
  },
  {
   "cell_type": "markdown",
   "metadata": {},
   "source": [
    "<h3>Visualizing In Sample Accuracy for Decision Tree.</h3>"
   ]
  },
  {
   "cell_type": "code",
   "execution_count": 55,
   "metadata": {},
   "outputs": [
    {
     "name": "stdout",
     "output_type": "stream",
     "text": [
      "Decision Tree:  84.1\n"
     ]
    }
   ],
   "source": [
    "# Model Decision Tree\n",
    "X_train_dt = pca.fit_transform(X_train)\n",
    "y_test_hat_dt_out = bestModel_dt.predict(X_train_dt)\n",
    "acc_dt_out = accuracy_score(y_train,y_test_hat_dt_out, normalize = True) * 100\n",
    "print(\"Decision Tree: \",acc_dt_out)"
   ]
  },
  {
   "cell_type": "markdown",
   "metadata": {},
   "source": [
    "<h3>Visualizing Out Sample Accuracy for Neural Netwrok.</h3>"
   ]
  },
  {
   "cell_type": "code",
   "execution_count": 56,
   "metadata": {},
   "outputs": [
    {
     "name": "stdout",
     "output_type": "stream",
     "text": [
      "Neural Network:  10.536666666666667\n"
     ]
    }
   ],
   "source": [
    "# Model Neural Netwrok\n",
    "X_train_nn = pca.fit_transform(X_train)\n",
    "y_test_hat_nn_out = model_nn.predict(X_train_nn)\n",
    "acc_nn_out = accuracy_score(y_train,y_test_hat_nn_out, normalize = True) * 100\n",
    "print(\"Neural Network: \",acc_nn_out)"
   ]
  },
  {
   "cell_type": "markdown",
   "metadata": {},
   "source": [
    "<h3> Visualizing Confusion Matrix and Classification Report for Logistic Regression</h3>"
   ]
  },
  {
   "cell_type": "code",
   "execution_count": 90,
   "metadata": {},
   "outputs": [
    {
     "name": "stdout",
     "output_type": "stream",
     "text": [
      "Confusion Matrix\n",
      "\n",
      "[[814   2  15  51   6   2  97   1  12   0]\n",
      " [  2 956   5  26   5   0   4   0   2   0]\n",
      " [ 18   4 726  11 133   1  94   2  10   1]\n",
      " [ 34  12  11 869  26   1  42   0   5   0]\n",
      " [  0   1 118  37 757   0  82   0   5   0]\n",
      " [  0   0   0   2   0 927   0  51   2  18]\n",
      " [145   2 127  44 107   0 550   0  25   0]\n",
      " [  0   0   0   0   0  32   0 938   0  30]\n",
      " [  5   1   7  12   3   3  20   6 942   1]\n",
      " [  0   1   0   0   0  18   1  37   1 942]]\n",
      "\n",
      "Classification Report\n",
      "\n",
      "              precision    recall  f1-score   support\n",
      "\n",
      "           0       0.80      0.81      0.81      1000\n",
      "           1       0.98      0.96      0.97      1000\n",
      "           2       0.72      0.73      0.72      1000\n",
      "           3       0.83      0.87      0.85      1000\n",
      "           4       0.73      0.76      0.74      1000\n",
      "           5       0.94      0.93      0.93      1000\n",
      "           6       0.62      0.55      0.58      1000\n",
      "           7       0.91      0.94      0.92      1000\n",
      "           8       0.94      0.94      0.94      1000\n",
      "           9       0.95      0.94      0.95      1000\n",
      "\n",
      "    accuracy                           0.84     10000\n",
      "   macro avg       0.84      0.84      0.84     10000\n",
      "weighted avg       0.84      0.84      0.84     10000\n",
      "\n"
     ]
    }
   ],
   "source": [
    "print('Confusion Matrix\\n')\n",
    "print(confusion_matrix(y_test,y_test_hat_lr))\n",
    "print('\\nClassification Report\\n')\n",
    "print(classification_report(y_test,y_test_hat_lr))"
   ]
  },
  {
   "cell_type": "markdown",
   "metadata": {},
   "source": [
    "<h3> Visualizing Confusion Matrix and Classification Report for Naive Bayes</h3>"
   ]
  },
  {
   "cell_type": "code",
   "execution_count": 91,
   "metadata": {},
   "outputs": [
    {
     "name": "stdout",
     "output_type": "stream",
     "text": [
      "Confusion Matrix\n",
      "\n",
      "[[724   1  16  58   7   7  74   0 113   0]\n",
      " [ 10 879  15  51   3   3  10   0  29   0]\n",
      " [ 15   0 617   6 125   6 138   1  92   0]\n",
      " [ 51  10   9 762  39   9  55   0  65   0]\n",
      " [  4   0 106  31 668   3 116   0  72   0]\n",
      " [  3   0   3   1   0 736  40 175  31  11]\n",
      " [151   0  99  40  77  13 499   0 121   0]\n",
      " [  1   0   0   0   0  77   3 863   0  56]\n",
      " [ 24   0   8   5  11  12  45  29 864   2]\n",
      " [  0   0   0   0   0  22   7  72  25 874]]\n",
      "\n",
      "Classification Report\n",
      "\n",
      "              precision    recall  f1-score   support\n",
      "\n",
      "           0       0.74      0.72      0.73      1000\n",
      "           1       0.99      0.88      0.93      1000\n",
      "           2       0.71      0.62      0.66      1000\n",
      "           3       0.80      0.76      0.78      1000\n",
      "           4       0.72      0.67      0.69      1000\n",
      "           5       0.83      0.74      0.78      1000\n",
      "           6       0.51      0.50      0.50      1000\n",
      "           7       0.76      0.86      0.81      1000\n",
      "           8       0.61      0.86      0.72      1000\n",
      "           9       0.93      0.87      0.90      1000\n",
      "\n",
      "    accuracy                           0.75     10000\n",
      "   macro avg       0.76      0.75      0.75     10000\n",
      "weighted avg       0.76      0.75      0.75     10000\n",
      "\n"
     ]
    }
   ],
   "source": [
    "print('Confusion Matrix\\n')\n",
    "print(confusion_matrix(y_test,y_test_hat_nb))\n",
    "print('\\nClassification Report\\n')\n",
    "print(classification_report(y_test,y_test_hat_nb))"
   ]
  },
  {
   "cell_type": "markdown",
   "metadata": {},
   "source": [
    "<h3> Visualizing Confusion Matrix and Classification Report for SVM</h3>"
   ]
  },
  {
   "cell_type": "code",
   "execution_count": 92,
   "metadata": {},
   "outputs": [
    {
     "name": "stdout",
     "output_type": "stream",
     "text": [
      "Confusion Matrix\n",
      "\n",
      "[[856   1  15  16   2   5  97   0   8   0]\n",
      " [  1 978   0  14   4   1   2   0   0   0]\n",
      " [ 25   1 826   9  70   2  66   0   1   0]\n",
      " [ 19   2  10 908  29   2  28   0   2   0]\n",
      " [  1   0  85  24 835   1  53   0   1   0]\n",
      " [  0   0   0   0   0 981   0  15   0   4]\n",
      " [133   0  72  21  60   0 705   0   9   0]\n",
      " [  0   0   0   0   0   9   0 979   0  12]\n",
      " [  1   0   3   5   3   3   6   3 976   0]\n",
      " [  1   0   0   0   0   8   0  28   0 963]]\n",
      "\n",
      "Classification Report\n",
      "\n",
      "              precision    recall  f1-score   support\n",
      "\n",
      "           0       0.83      0.86      0.84      1000\n",
      "           1       1.00      0.98      0.99      1000\n",
      "           2       0.82      0.83      0.82      1000\n",
      "           3       0.91      0.91      0.91      1000\n",
      "           4       0.83      0.83      0.83      1000\n",
      "           5       0.97      0.98      0.98      1000\n",
      "           6       0.74      0.70      0.72      1000\n",
      "           7       0.96      0.98      0.97      1000\n",
      "           8       0.98      0.98      0.98      1000\n",
      "           9       0.98      0.96      0.97      1000\n",
      "\n",
      "    accuracy                           0.90     10000\n",
      "   macro avg       0.90      0.90      0.90     10000\n",
      "weighted avg       0.90      0.90      0.90     10000\n",
      "\n"
     ]
    }
   ],
   "source": [
    "print('Confusion Matrix\\n')\n",
    "print(confusion_matrix(y_test,y_test_hat_svm))\n",
    "print('\\nClassification Report\\n')\n",
    "print(classification_report(y_test,y_test_hat_svm))"
   ]
  },
  {
   "cell_type": "markdown",
   "metadata": {},
   "source": [
    "<h3> Visualizing Confusion Matrix and Classification Report for Decision Tree</h3>"
   ]
  },
  {
   "cell_type": "code",
   "execution_count": 93,
   "metadata": {},
   "outputs": [
    {
     "name": "stdout",
     "output_type": "stream",
     "text": [
      "Confusion Matrix\n",
      "\n",
      "[[632  22  25  88  17  23 143   2  34  14]\n",
      " [ 46 838   2  69  12   2  18   0   5   8]\n",
      " [ 57   2  69  80 189  47  56  16 117 367]\n",
      " [114  76  16 582  73   5 113   3  15   3]\n",
      " [ 19   3  21  66 466  34  64  14  42 271]\n",
      " [  3   0  35   3  16 423  30 228  26 236]\n",
      " [177  10  52 125 169  48 131  26  94 168]\n",
      " [  1  17  56   1   2 126  11 718  17  51]\n",
      " [ 27   0  18  13  40  36  49  18 787  12]\n",
      " [  1  47 413   0 235  83 147  58  14   2]]\n",
      "\n",
      "Classification Report\n",
      "\n",
      "              precision    recall  f1-score   support\n",
      "\n",
      "           0       0.59      0.63      0.61      1000\n",
      "           1       0.83      0.84      0.83      1000\n",
      "           2       0.10      0.07      0.08      1000\n",
      "           3       0.57      0.58      0.57      1000\n",
      "           4       0.38      0.47      0.42      1000\n",
      "           5       0.51      0.42      0.46      1000\n",
      "           6       0.17      0.13      0.15      1000\n",
      "           7       0.66      0.72      0.69      1000\n",
      "           8       0.68      0.79      0.73      1000\n",
      "           9       0.00      0.00      0.00      1000\n",
      "\n",
      "    accuracy                           0.46     10000\n",
      "   macro avg       0.45      0.46      0.46     10000\n",
      "weighted avg       0.45      0.46      0.46     10000\n",
      "\n"
     ]
    }
   ],
   "source": [
    "print('Confusion Matrix\\n')\n",
    "print(confusion_matrix(y_test,y_test_hat_dt))\n",
    "print('\\nClassification Report\\n')\n",
    "print(classification_report(y_test,y_test_hat_dt))"
   ]
  },
  {
   "cell_type": "markdown",
   "metadata": {},
   "source": [
    "<h3> Visualizing Confusion Matrix and Classification Report for Neural Network</h3>"
   ]
  },
  {
   "cell_type": "code",
   "execution_count": 94,
   "metadata": {},
   "outputs": [
    {
     "name": "stdout",
     "output_type": "stream",
     "text": [
      "Confusion Matrix\n",
      "\n",
      "[[157  94 107 107 133  88 106  41  98  69]\n",
      " [ 85 122 148  28  94  95 188  38 140  62]\n",
      " [ 99 107  55  78 138  64  81  71 189 118]\n",
      " [100 102 114  95 161  57 170  18 144  39]\n",
      " [ 86 144  51  84  89 109  63  48 182 144]\n",
      " [ 61  81  77 119  68 148 117  68 153 108]\n",
      " [128 115  95 100  86  79 114  47 164  72]\n",
      " [148  45  80  68  64 126 151  70 123 125]\n",
      " [ 94  88  67  75  77 180 114  41 154 110]\n",
      " [109  49  27  74  60 131 171  90 154 135]]\n",
      "\n",
      "Classification Report\n",
      "\n",
      "              precision    recall  f1-score   support\n",
      "\n",
      "           0       0.15      0.16      0.15      1000\n",
      "           1       0.13      0.12      0.13      1000\n",
      "           2       0.07      0.06      0.06      1000\n",
      "           3       0.11      0.10      0.10      1000\n",
      "           4       0.09      0.09      0.09      1000\n",
      "           5       0.14      0.15      0.14      1000\n",
      "           6       0.09      0.11      0.10      1000\n",
      "           7       0.13      0.07      0.09      1000\n",
      "           8       0.10      0.15      0.12      1000\n",
      "           9       0.14      0.14      0.14      1000\n",
      "\n",
      "    accuracy                           0.11     10000\n",
      "   macro avg       0.11      0.11      0.11     10000\n",
      "weighted avg       0.11      0.11      0.11     10000\n",
      "\n"
     ]
    }
   ],
   "source": [
    "print('Confusion Matrix\\n')\n",
    "print(confusion_matrix(y_test,y_test_hat_nn))\n",
    "print('\\nClassification Report\\n')\n",
    "print(classification_report(y_test,y_test_hat_nn))"
   ]
  },
  {
   "cell_type": "markdown",
   "metadata": {},
   "source": [
    "<h3>I have analyzed all the Models with In sample accuracy and Out Sample accuracy as well as using Classification Report.</h3>\n",
    "\n",
    "1. Linear regression has Out sample Accuracy of <b>84.21%</b> and In sample Accuracy of <b>86.25%</b>\n",
    "2. Naive Bayes has Out sample Accuracy of <b>74.86%</b> and In sample Accuracy of <b>76.11%</b>\n",
    "3. K - Nearest Neighbour has Out sample Accuracy of <b>9.75%</b> and In sample Accuracy of <b>-</b>\n",
    "4. SVM has Out sample Accuracy of <b>90.07</b> and In sample Accuracy of <b>98.53%</b>\n",
    "5. Decision Tree has Out sample Accuracy of <b>46.48%</b> and In sample Accuracy of <b>84.1%</b>\n",
    "6. Neural Network has Out sample Accuracy of <b>11.39%</b> and In sample Accuracy of <b>10.53%</b>\n",
    "\n",
    "<p>Out of all those model SVM has Out sample accuracy of <b>90.07%</b> and In sample accuracy of <b>98.53%</b>. Since this model has good In sample and Out Sample Accuracy with low variance and good F1 - Score. I am using <b>SVM Model</b> for my classification for final Data.</p>\n",
    "\n",
    "<p style=\"color:red\">Note: K - Nearest Neighbour Classifier take Almost 3 days to train the data hence it has been ruled out.</p>"
   ]
  },
  {
   "cell_type": "markdown",
   "metadata": {},
   "source": [
    "<h2>Creating Dataset for Validation using 5 Fashion Photos</h2>"
   ]
  },
  {
   "cell_type": "code",
   "execution_count": 121,
   "metadata": {},
   "outputs": [
    {
     "name": "stdout",
     "output_type": "stream",
     "text": [
      "(4, 784)\n",
      "(4,)\n"
     ]
    }
   ],
   "source": [
    "data = ['sneakers.jpg', 'shirt.jpg', 'pullover.jpg', 'trouser.jpg']\n",
    "X_data = []\n",
    "rgb_weights = [0.2989, 0.5870, 0.1140]\n",
    "for i in range(len(data)):\n",
    "    img = mpimg.imread(data[i])\n",
    "    abc = cv2.resize(img,(28,28))\n",
    "    abc = cv2.rotate(abc,cv2.ROTATE_90_CLOCKWISE)\n",
    "    grayscale_image = np.dot(abc[...,:3], rgb_weights)\n",
    "    X_data.append(grayscale_image)\n",
    "X_data = np.array(X_data)\n",
    "X_validate = X_data.reshape(4,28*28)\n",
    "print(X_validate.shape)\n",
    "\n",
    "y_validate = [7,6,2,1]\n",
    "y_validate = np.array(y_validate)\n",
    "print(y_validate.shape)\n"
   ]
  },
  {
   "cell_type": "markdown",
   "metadata": {},
   "source": [
    "<h3> Visualizing Images Side by Side </h3>"
   ]
  },
  {
   "cell_type": "code",
   "execution_count": 106,
   "metadata": {},
   "outputs": [
    {
     "data": {
      "image/png": "[encoded data removed]",
      "text/plain": [
       "<Figure size 2016x2016 with 4 Axes>"
      ]
     },
     "metadata": {},
     "output_type": "display_data"
    }
   ],
   "source": [
    "fig, axes = plt.subplots(1, 4, subplot_kw={'xticks': (), 'yticks': ()}, figsize=(28,28))\n",
    "for i, axi in enumerate(axes.flat):\n",
    "    axi.imshow(X_data[i], cmap = 'binary')  \n",
    "    axi.set(xticks=[], yticks=[])"
   ]
  },
  {
   "cell_type": "code",
   "execution_count": 107,
   "metadata": {},
   "outputs": [
    {
     "name": "stdout",
     "output_type": "stream",
     "text": [
      "[8 8 8 8]\n"
     ]
    }
   ],
   "source": [
    "y_validate_hat_lr = bestModel_svc.predict(X_validate_pca)\n",
    "print(y_validate_hat_lr)"
   ]
  },
  {
   "cell_type": "code",
   "execution_count": 109,
   "metadata": {},
   "outputs": [
    {
     "name": "stdout",
     "output_type": "stream",
     "text": [
      "(10000, 784)\n"
     ]
    }
   ],
   "source": [
    "print(X_test.shape)"
   ]
  },
  {
   "cell_type": "markdown",
   "metadata": {},
   "source": [
    "### Output"
   ]
  },
  {
   "cell_type": "markdown",
   "metadata": {},
   "source": [
    "<ul>\n",
    "    <li>Make sure to put descriptive comments on your code</li>\n",
    "    <li>Use the markdown cell format in Jupiter to add your own interpretation to the result in each section.</li>\n",
    "    <li>Make sure to keep the output of your runs when you want to save the final version of the file.</li>\n",
    "    <li>The final work should be very well structured and should have a consistent flow of analysis.</li>\n",
    "</ul>"
   ]
  },
  {
   "cell_type": "markdown",
   "metadata": {},
   "source": [
    "#### Due Date: Nov 9 2020 at 11:59 PM"
   ]
  },
  {
   "cell_type": "markdown",
   "metadata": {},
   "source": [
    "## Grading Criteria"
   ]
  },
  {
   "cell_type": "markdown",
   "metadata": {},
   "source": [
    "<table style=\"width:400px;height:200px;border:1px black solid; background-color:white\">\n",
    "    <tr style=\"background-color:white\">\n",
    "        <th style=\"text-align:left;border:1px black solid\">Comprehensiveness</th>\n",
    "        <td style=\"text-align:center;border:1px black solid\"><b>30%</b></td>\n",
    "    </tr>\n",
    "    <tr style=\"background-color:white\">\n",
    "        <th style=\"text-align:left;border:1px black solid\">Correctness</th>\n",
    "        <td style=\"text-align:center;border:1px black solid\"><b>20%</b></td>\n",
    "    </tr>\n",
    "    <tr style=\"background-color:white\">\n",
    "        <th style=\"text-align:left;border:1px black solid\">Complete Report</th>\n",
    "        <td style=\"text-align:center;border:1px black solid\"><b>20%</b></td>\n",
    "    </tr>\n",
    "    <tr style=\"background-color:white\">\n",
    "        <th style=\"text-align:left;border:1px black solid\">Clear Code</th>\n",
    "        <td style=\"text-align:center;border:1px black solid\"><b>20%</b></td>\n",
    "    </tr>\n",
    "    <tr style=\"background-color:white\">\n",
    "        <th style=\"text-align:left;border:1px black solid\">Innovation (Extra)</th>\n",
    "        <td style=\"text-align:center;border:1px black solid\"><b>20%</b></td>\n",
    "    </tr>\n",
    "    <tr style=\"background-color:white\">\n",
    "        <th style=\"text-align:center;border:1px black solid;color:red\"><u>Total</u></th>\n",
    "        <td style=\"text-align:center;border:1px black solid;color:red\"><b stlyle=\"color:red\">110%</b></td>\n",
    "    </tr>\n",
    "</table>"
   ]
  }
 ],
 "metadata": {
  "kernelspec": {
   "display_name": "Python 3",
   "language": "python",
   "name": "python3"
  },
  "language_info": {
   "codemirror_mode": {
    "name": "ipython",
    "version": 3
   },
   "file_extension": ".py",
   "mimetype": "text/x-python",
   "name": "python",
   "nbconvert_exporter": "python",
   "pygments_lexer": "ipython3",
   "version": "3.8.3"
  }
 },
 "nbformat": 4,
 "nbformat_minor": 4
}
